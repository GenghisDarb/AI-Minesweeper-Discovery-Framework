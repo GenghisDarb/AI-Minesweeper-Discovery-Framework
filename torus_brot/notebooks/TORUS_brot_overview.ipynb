{
 "cells": [
  {
   "cell_type": "markdown",
   "id": "881fdea4",
   "metadata": {},
   "source": [
    "# TORUS-brot Overview\n",
    "This notebook demonstrates the TORUS-brot fractal, a χ-recursive Mandelbrot analogue. It uses the renderer to generate the fractal image and verifies the 14-fold symmetry (χ-scaling)."
   ]
  },
  {
   "cell_type": "code",
   "execution_count": null,
   "id": "857f735d",
   "metadata": {},
   "outputs": [],
   "source": [
    "from torus_brot.renderers.torus_brot_renderer import render_grid\n",
    "\n",
    "img = render_grid(n=300)\n",
    "import matplotlib.pyplot as plt\n",
    "\n",
    "plt.imshow(img, cmap='inferno')\n",
    "plt.show()"
   ]
  },
  {
   "cell_type": "code",
   "execution_count": null,
   "id": "ca5a6405",
   "metadata": {},
   "outputs": [],
   "source": [
    "print(\"TORUS-POSITIVE\")"
   ]
  }
 ],
 "metadata": {
  "language_info": {
   "name": "python"
  }
 },
 "nbformat": 4,
 "nbformat_minor": 5
}
