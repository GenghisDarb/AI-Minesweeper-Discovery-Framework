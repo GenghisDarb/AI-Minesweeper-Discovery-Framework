{
 "cells": [
  {
   "cell_type": "markdown",
   "id": "b84598e0",
   "metadata": {},
   "source": [
    "# Prime Spiral Validation\n",
    "This notebook demonstrates the χ-spiral pattern in prime numbers using a Lomb-Scargle periodogram."
   ]
  },
  {
   "cell_type": "code",
   "execution_count": null,
   "id": "bc201d07",
   "metadata": {},
   "outputs": [],
   "source": [
    "from ai_minesweeper.meta_cell_confidence.demo import prime_spiral_analysis\n",
    "prime_spiral_analysis(n_primes=10000000)"
   ]
  }
 ],
 "metadata": {
  "language_info": {
   "name": "python"
  }
 },
 "nbformat": 4,
 "nbformat_minor": 5
}
