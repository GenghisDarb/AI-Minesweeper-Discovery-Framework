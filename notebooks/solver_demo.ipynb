import matplotlib.pyplot as plt
from ai_minesweeper.board_builder import BoardBuilder
from ai_minesweeper.solver import ConstraintSolver

# Load the board from the CSV file
board = BoardBuilder.from_csv('examples/boards/mini.csv')

# Display the initial board
plt.imshow(board.grid, cmap='gray')
plt.title('Initial Board')
plt.show()

# Run one solve pass
solver = ConstraintSolver(board)
solver.solve(board)

# Display the final board
plt.imshow(board.grid, cmap='gray')
plt.title('Final Board')
plt.show()
