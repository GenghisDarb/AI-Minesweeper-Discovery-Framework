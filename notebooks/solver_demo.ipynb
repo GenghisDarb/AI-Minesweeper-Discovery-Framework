{
 "cells": [
  {
   "cell_type": "markdown",
   "id": "98f23f43",
   "metadata": {},
   "source": [
    "# Minesweeper Confidence Demo\n",
    "Binder loads fast by default (20 games).  \n",
    "Click *Run All* for the full 100-game simulation."
   ]
  },
  {
   "cell_type": "code",
   "execution_count": null,
   "id": "5f04a71c",
   "metadata": {},
   "outputs": [],
   "source": [
    "from ai_minesweeper.meta_cell_confidence.demo import quick_glimpse\n",
    "quick_glimpse(n_games=20)"
   ]
  }
 ],
 "metadata": {},
 "nbformat": 4,
 "nbformat_minor": 5
}
