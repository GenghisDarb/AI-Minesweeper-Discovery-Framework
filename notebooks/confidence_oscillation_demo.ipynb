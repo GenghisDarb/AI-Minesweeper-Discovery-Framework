{
 "cells": [
  {
   "cell_type": "code",
   "execution_count": null,
   "id": "ac14256a",
   "metadata": {},
   "outputs": [],
   "source": [
    "import matplotlib.pyplot as plt\n",
    "\n",
    "from ai_minesweeper.board_builder import BoardBuilder\n",
    "from ai_minesweeper.meta_cell_confidence.confidence import BetaConfidence\n",
    "from ai_minesweeper.meta_cell_confidence.policy_wrapper import ConfidencePolicy"
   ]
  },
  {
   "cell_type": "code",
   "execution_count": null,
   "id": "2d7fc2d7",
   "metadata": {},
   "outputs": [],
   "source": [
    "games = 100\n",
    "moves_per_game = []\n",
    "confidence_scores = []\n",
    "for _ in range(games):\n",
    "    board = BoardBuilder.from_csv(\"examples/periodic_table/elements.csv\")\n",
    "    confidence = BetaConfidence()\n",
    "    policy = ConfidencePolicy(base_solver=None, confidence=confidence)\n",
    "    moves = 0\n",
    "    while not board.is_solved():\n",
    "        move = policy.choose_move(board)\n",
    "        if move is None:\n",
    "            break\n",
    "        moves += 1\n",
    "        confidence_scores.append(confidence.mean())\n",
    "    moves_per_game.append(moves)"
   ]
  },
  {
   "cell_type": "code",
   "execution_count": null,
   "id": "270c1a70",
   "metadata": {},
   "outputs": [],
   "source": [
    "plt.figure(figsize=(10, 6))\n",
    "plt.plot(confidence_scores, label=\"Confidence\")\n",
    "plt.xlabel(\"Move Number\")\n",
    "plt.ylabel(\"Confidence Level\")\n",
    "plt.title(\"Confidence Oscillation Over Moves\")\n",
    "plt.legend()\n",
    "plt.show()"
   ]
  },
  {
   "cell_type": "code",
   "execution_count": null,
   "id": "b04c3057",
   "metadata": {},
   "outputs": [],
   "source": [
    "plt.figure(figsize=(10, 6))\n",
    "plt.hist(moves_per_game, bins=20, color=\"skyblue\", edgecolor=\"black\")\n",
    "plt.xlabel(\"Total Moves Per Game\")\n",
    "plt.ylabel(\"Frequency\")\n",
    "plt.title(\"Distribution of Game Lengths\")\n",
    "plt.show()"
   ]
  }
 ],
 "metadata": {
  "language_info": {
   "name": "python"
  }
 },
 "nbformat": 4,
 "nbformat_minor": 5
}
