{
 "cells": [
  {
   "cell_type": "markdown",
   "id": "faea68fa",
   "metadata": {},
   "source": [
    "# Phase-Lock Minesweeper\n",
    "This notebook demonstrates the Phase-Lock Minesweeper module."
   ]
  },
  {
   "cell_type": "code",
   "execution_count": null,
   "id": "48397095",
   "metadata": {},
   "outputs": [],
   "source": [
    "# Import necessary libraries\n",
    "import numpy as np\n",
    "from ai_minesweeper.domain.phase_lock_phi import evaluate_cell, detect_phi_reset"
   ]
  },
  {
   "cell_type": "code",
   "execution_count": null,
   "id": "f3c8eea2",
   "metadata": {},
   "outputs": [],
   "source": [
    "# Generate synthetic μ-band signal with known reset\n",
    "sampling_rate = 1000\n",
    "signal = np.sin(2 * np.pi * 13 * np.arange(0, 1, 1/sampling_rate))\n",
    "# Add reset\n",
    "signal[700:800] += np.sin(2 * np.pi * 13 * np.arange(0, 0.1, 1/sampling_rate))"
   ]
  },
  {
   "cell_type": "code",
   "execution_count": null,
   "id": "5476d051",
   "metadata": {},
   "outputs": [],
   "source": [
    "# Detect φ-phase reset\n",
    "reset_detected = detect_phi_reset(signal, sampling_rate)\n",
    "print(f\"Reset Detected: {reset_detected}\")"
   ]
  },
  {
   "cell_type": "code",
   "execution_count": null,
   "id": "c6c14797",
   "metadata": {},
   "outputs": [],
   "source": [
    "# Plot probability heatmap\n",
    "import matplotlib.pyplot as plt\n",
    "plt.figure(figsize=(10, 6))\n",
    "plt.title(\"φ-Lock Likelihood Heatmap\")\n",
    "# ...plotting code...\n",
    "plt.show()"
   ]
  }
 ],
 "metadata": {
  "language_info": {
   "name": "python"
  }
 },
 "nbformat": 4,
 "nbformat_minor": 5
}
