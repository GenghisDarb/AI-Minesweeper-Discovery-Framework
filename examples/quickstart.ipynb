{
 "cells": [
  {
   "cell_type": "markdown",
   "id": "21fcb2bd",
   "metadata": {},
   "source": [
    "# AI Minesweeper Framework Quickstart\n",
    "This notebook provides a quick walkthrough for new users to explore the framework.\n",
    "## Steps\n",
    "1. Select 'none' as the LLM backend.\n",
    "2. Load the Periodic Table demo.\n",
    "3. Run the solver for 3 moves and observe the board state."
   ]
  },
  {
   "cell_type": "code",
   "execution_count": null,
   "id": "0e3a2a55",
   "metadata": {},
   "outputs": [],
   "source": [
    "from ai_minesweeper.board_builder import BoardBuilder\n",
    "\n",
    "board = BoardBuilder.from_csv(\"examples/periodic_table/elements.csv\")\n",
    "print(\"Periodic Table demo loaded.\")\n",
    "print(board)"
   ]
  },
  {
   "cell_type": "code",
   "execution_count": null,
   "id": "89df8db8",
   "metadata": {},
   "outputs": [],
   "source": [
    "from ai_minesweeper.solver_logic import SolverLogic\n",
    "\n",
    "for move in range(3):\n",
    "    SolverLogic.flag_mines(board)\n",
    "    SolverLogic.cascade_reveal(board)\n",
    "    print(f\"Board state after move {move + 1}:\")\n",
    "    print(board)"
   ]
  },
  {
   "cell_type": "code",
   "execution_count": null,
   "id": "54547fca",
   "metadata": {},
   "outputs": [],
   "source": [
    "import streamlit as st\n",
    "\n",
    "st.session_state.llm_backend = \"none\"\n",
    "print(\"LLM backend set to 'none'.\")"
   ]
  }
 ],
 "metadata": {
  "language_info": {
   "name": "python"
  }
 },
 "nbformat": 4,
 "nbformat_minor": 5
}
